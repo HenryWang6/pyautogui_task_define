{
 "cells": [
  {
   "cell_type": "code",
   "execution_count": 17,
   "metadata": {},
   "outputs": [],
   "source": [
    "# import packages\n",
    "import pandas as pd\n",
    "import pyautogui\n",
    "# Disable Retina scaling \n",
    "pyautogui.useRetina = True\n",
    "import os\n",
    "# import cv2"
   ]
  },
  {
   "cell_type": "code",
   "execution_count": 18,
   "metadata": {},
   "outputs": [],
   "source": [
    "path_task_seq_folder = os.path.abspath(os.path.join(os.getcwd(),'..', 'ref_files','task_sequences'))\n",
    "path_ref_images = os.path.abspath(os.path.join(os.getcwd(),'..', 'ref_files','ref_images'))"
   ]
  },
  {
   "cell_type": "code",
   "execution_count": 19,
   "metadata": {},
   "outputs": [],
   "source": [
    "def read_action_sequence(file_name: str):\n",
    "    \"\"\"\n",
    "    Reads the action sequence file and returns it as a pandas DataFrame with correct types.\n",
    "    \"\"\"\n",
    "    global path_task_seq_folder\n",
    "    file_path = os.path.join(path_task_seq_folder,file_name+'.csv')\n",
    "    \n",
    "    df = pd.read_csv(file_path)\n",
    "    df['sequence_num'] = df['sequence_num'].astype('Int32')\n",
    "    df['action_type'] = df['action_type'].astype(str)\n",
    "    df['reference_image'] = df['reference_image'].astype(str)\n",
    "    df['pre_condition_image'] = df['pre_condition_image'].astype(str)\n",
    "    df['click_num'] = df['click_num'].astype('Int32')\n",
    "    df['input_text'] = df['input_text'].astype(str)\n",
    "    df['key_press'] = df['key_press'].astype(str)\n",
    "    df['move_to'] = df['move_to'].astype(str)\n",
    "    df.sort_values(by='sequence_num', ascending=True, inplace=True) # sort dataframe by action sequence\n",
    "\n",
    "    return df\n"
   ]
  },
  {
   "cell_type": "code",
   "execution_count": 20,
   "metadata": {},
   "outputs": [],
   "source": [
    "def check_condition(image_name = ''):\n",
    "    \"\"\"\n",
    "    Check if the condition of action satisfy.\n",
    "    \"\"\"\n",
    "    global path_ref_images\n",
    "    image_path = os.path.abspath(os.path.join(path_ref_images,image_name+'.png'))\n",
    "    #print(f'check_condition image_path: {image_path}') #test\n",
    "    \n",
    "    print('Check Action Condition...', end=' -> ')\n",
    "    if image_name == 'nan':\n",
    "        print(f'No condition required!', end=' -> ')\n",
    "        return True\n",
    "    else:\n",
    "        while True:\n",
    "            try:\n",
    "                loc = pyautogui.locateCenterOnScreen(image_path, confidence=0.8)\n",
    "            except:\n",
    "                continue\n",
    "            if loc is not None:\n",
    "                print(f'Condition - {image_name} Satisfied!', end=' -> ')\n",
    "                break\n",
    "        return True\n",
    "\n",
    "def perform_action(action_type, image_name:str = None, click_num:int = 1, input_text:str = None, key_press:str = None, move_to:str = None):\n",
    "    \"\"\"\n",
    "    Performs the specified action (click, move, keyboard input, key press).\n",
    "    - Click: \n",
    "    - Move:\n",
    "    - keyboard input: \n",
    "    - key press:\n",
    "    \"\"\"\n",
    "\n",
    "    global path_ref_images\n",
    "\n",
    "    if action_type == \"click\" and image_name is not None:\n",
    "        print(f'Locating {image_name} ...', end=' ')\n",
    "        image_path = os.path.abspath(os.path.join(path_ref_images,image_name+'.png'))\n",
    "        while True:\n",
    "            x, y = pyautogui.locateCenterOnScreen(image_path, confidence=0.9)\n",
    "            if x is not None:\n",
    "                print('Success!', end=' -> ')\n",
    "                break\n",
    "        #test\n",
    "        print(f'click num {click_num}', end=' -> ')\n",
    "        pyautogui.click(x/2, y/2, clicks = click_num, interval=0.1, duration = 0.3)\n",
    "        print(f'Mouse Clicked!')\n",
    "    elif action_type == \"move\" and move_to is not None:\n",
    "        import re\n",
    "        if bool(re.search(r'\\(\\d+,\\s*\\d+\\)', move_to)):\n",
    "            move_to = tuple(map(int, move_to.strip('()').split(\",\")))\n",
    "            x = move_to[0]\n",
    "            y = move_to[1]\n",
    "            print(f'Move to a corrdinate: ({x}, {y})', end=' -> ')\n",
    "            pyautogui.moveTo(x, y)\n",
    "            print(f'Cursor Moved!')\n",
    "        else:\n",
    "            # reference a pic\n",
    "            image_name = move_to\n",
    "\n",
    "            print(f'Locating {image_name} ...', end=' ')\n",
    "            image_path = os.path.abspath(os.path.join(path_ref_images,image_name+'.png'))\n",
    "            while True:\n",
    "                x, y = pyautogui.locateCenterOnScreen(image_path, confidence=0.8)\n",
    "                if x is not None:\n",
    "                    print('Success!', end=' -> ')\n",
    "                    break\n",
    "            pyautogui.moveTo(x, y)\n",
    "            print(f'Cursor Moved!')\n",
    "    elif action_type == \"keyboard_input\" and input_text is not None:\n",
    "        pyautogui.typewrite(input_text)\n",
    "        print(f'Text Written!')\n",
    "    elif action_type == \"key_press\":\n",
    "        keys = key_press.split(sep='+')\n",
    "        if len(keys)>1:\n",
    "            pyautogui.hotkey(keys)\n",
    "            print(f'Hot Key Pressed!')\n",
    "        elif len(keys)==1:\n",
    "            pyautogui.press(keys[0])\n",
    "            print(f'Key Pressed!')\n",
    "    else:\n",
    "        print('Wrong action_type value!')\n",
    "        exit"
   ]
  },
  {
   "cell_type": "code",
   "execution_count": 21,
   "metadata": {},
   "outputs": [],
   "source": [
    "def execute_action_sequence(task_seq_file_name, path_task_seq_folder, path_ref_images): \n",
    "    \"\"\" \n",
    "    Executes the action sequence defined in the DataFrame. \n",
    "    \"\"\" \n",
    "\n",
    "    print(f'Executing Task: {task_seq_file_name} ...')\n",
    "    \n",
    "    task_sequence_df = read_action_sequence(task_seq_file_name)\n",
    "    #print(task_sequence_df.dtypes)\n",
    "\n",
    "    for index, row in task_sequence_df.iterrows(): \n",
    "        sequence_num = row['sequence_num']\n",
    "        action_type = row['action_type'] \n",
    "        reference_image = row['reference_image'] \n",
    "        pre_condition_image = row['pre_condition_image']\n",
    "        click_num = row['click_num']\n",
    "        input_text = row['input_text']\n",
    "        key_press = row['key_press']\n",
    "        move_to = row['move_to']\n",
    "        \n",
    "        while True:\n",
    "            print(f'\\tStep No.{sequence_num}', end=': ')\n",
    "            if check_condition(pre_condition_image):\n",
    "                perform_action(action_type, reference_image, click_num, input_text, key_press, move_to)\n",
    "                break"
   ]
  },
  {
   "cell_type": "code",
   "execution_count": 22,
   "metadata": {},
   "outputs": [
    {
     "name": "stdout",
     "output_type": "stream",
     "text": [
      "Executing Task: task1 ...\n",
      "\tStep No.1: Check Action Condition... -> Condition - excel_icon Satisfied! -> Locating excel_icon ... Success! -> click num 1 -> Mouse Clicked!\n",
      "\tStep No.2: Check Action Condition... -> Condition - excel_initial_window Satisfied! -> Locating new_blank_workbook ... Success! -> click num 2 -> Mouse Clicked!\n",
      "\tStep No.3: Check Action Condition... -> No condition required! -> Locating create ... Success! -> click num 1 -> Mouse Clicked!\n",
      "\tStep No.4: Check Action Condition... -> Condition - excel_window Satisfied! -> Locating upper_space ... Success! -> click num 2 -> Mouse Clicked!\n",
      "\tStep No.5: Check Action Condition... -> Condition - active_cell Satisfied! -> Text Written!\n",
      "\tStep No.6: Check Action Condition... -> No condition required! -> Key Pressed!\n",
      "\tStep No.7: Check Action Condition... -> No condition required! -> Text Written!\n",
      "\tStep No.8: Check Action Condition... -> No condition required! -> Locating save_button ... Success! -> click num 1 -> Mouse Clicked!\n",
      "\tStep No.9: Check Action Condition... -> No condition required! -> Move to a corrdinate: (512, 490) -> Cursor Moved!\n",
      "\tStep No.10: Check Action Condition... -> Condition - save_window Satisfied! -> Locating save_as_field ... Success! -> click num 1 -> Mouse Clicked!\n",
      "\tStep No.11: Check Action Condition... -> No condition required! -> Hot Key Pressed!\n",
      "\tStep No.12: Check Action Condition... -> No condition required! -> Text Written!\n",
      "\tStep No.13: Check Action Condition... -> No condition required! -> Locating desktop_location ... Success! -> click num 1 -> Mouse Clicked!\n",
      "\tStep No.14: Check Action Condition... -> No condition required! -> Locating final_save_button ... Success! -> click num 1 -> Mouse Clicked!\n",
      "\tStep No.15: Check Action Condition... -> No condition required! -> Locating excel_close ... Success! -> click num 1 -> Mouse Clicked!\n"
     ]
    }
   ],
   "source": [
    "execute_action_sequence('task1', path_task_seq_folder, path_ref_images)"
   ]
  },
  {
   "cell_type": "markdown",
   "metadata": {},
   "source": [
    "# TEST"
   ]
  },
  {
   "cell_type": "code",
   "execution_count": 23,
   "metadata": {},
   "outputs": [
    {
     "name": "stdout",
     "output_type": "stream",
     "text": [
      "Screen width: 1512, Screen height: 982\n"
     ]
    }
   ],
   "source": [
    "screen_width, screen_height = pyautogui.size()\n",
    "print(f\"Screen width: {screen_width}, Screen height: {screen_height}\")"
   ]
  },
  {
   "cell_type": "code",
   "execution_count": 28,
   "metadata": {},
   "outputs": [
    {
     "name": "stdout",
     "output_type": "stream",
     "text": [
      "{'replace_file': {'click': {'image': 'replace_yes', 'clicks': 1}}}\n"
     ]
    }
   ],
   "source": [
    "scenario_handlers = {\n",
    "        'save_window': {\n",
    "            'replace_file': {\n",
    "                'click': {\n",
    "                    'image': 'replace_yes',  # Image to click when file exists\n",
    "                    'clicks': 1\n",
    "                }\n",
    "            }\n",
    "        },\n",
    "        # Add more scenario handlers as needed\n",
    "    }\n",
    "pre_condition_image = 'save_window'\n",
    "\n",
    "print(scenario_handlers.get(pre_condition_image, {}))\n"
   ]
  }
 ],
 "metadata": {
  "kernelspec": {
   "display_name": "pyautogui",
   "language": "python",
   "name": "python3"
  },
  "language_info": {
   "codemirror_mode": {
    "name": "ipython",
    "version": 3
   },
   "file_extension": ".py",
   "mimetype": "text/x-python",
   "name": "python",
   "nbconvert_exporter": "python",
   "pygments_lexer": "ipython3",
   "version": "3.9.20"
  }
 },
 "nbformat": 4,
 "nbformat_minor": 2
}
